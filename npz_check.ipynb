{
 "cells": [
  {
   "cell_type": "code",
   "execution_count": 1,
   "metadata": {},
   "outputs": [],
   "source": [
    "import numpy as np\n",
    "import pandas as pd\n",
    "import os"
   ]
  },
  {
   "cell_type": "code",
   "execution_count": 2,
   "metadata": {},
   "outputs": [
    {
     "name": "stdout",
     "output_type": "stream",
     "text": [
      "Learner0\n",
      "(608, 24, 7)\n",
      "(14592, 7)\n",
      "Learner1\n",
      "(608, 24, 7)\n",
      "(14592, 7)\n",
      "Learner2\n",
      "(608, 24, 7)\n",
      "(14592, 7)\n"
     ]
    }
   ],
   "source": [
    "DATASET_PATH = './checkpoints/test_RL_B6iFast_custom_ftM_sl36_ll18_pl24_dm512_nh8_el2_dl1_df2048_fc1_ebtimeF_dtTrue_test_0/rl_bm/bm_train_preds.npz'\n",
    "\n",
    "npz_file = np.load(DATASET_PATH)\n",
    "\n",
    "for k in npz_file.keys():\n",
    "    print(k)\n",
    "    npy_file = npz_file[k]\n",
    "    print(npy_file.shape)\n",
    "    npy_file = np.reshape(npy_file, (npy_file.shape[-1], -1))\n",
    "    npy_file = np.transpose(npy_file)\n",
    "    print(npy_file.shape)\n",
    "\n",
    "    # Make directory\n",
    "    os.makedirs(f'dataset/generated/bm_train_preds', exist_ok=True)\n",
    "\n",
    "    # Save to xlsx\n",
    "    df = pd.DataFrame(npy_file)\n",
    "    df.to_excel(f'dataset/generated/bm_train_preds/{k}.xlsx')"
   ]
  }
 ],
 "metadata": {
  "kernelspec": {
   "display_name": "Python 3",
   "language": "python",
   "name": "python3"
  },
  "language_info": {
   "codemirror_mode": {
    "name": "ipython",
    "version": 3
   },
   "file_extension": ".py",
   "mimetype": "text/x-python",
   "name": "python",
   "nbconvert_exporter": "python",
   "pygments_lexer": "ipython3",
   "version": "3.8.18"
  }
 },
 "nbformat": 4,
 "nbformat_minor": 4
}
